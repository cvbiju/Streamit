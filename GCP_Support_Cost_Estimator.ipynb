{
  "nbformat": 4,
  "nbformat_minor": 0,
  "metadata": {
    "colab": {
      "provenance": [],
      "authorship_tag": "ABX9TyNEkVmlDRsWxKF4G+laHqJ6",
      "include_colab_link": true
    },
    "kernelspec": {
      "name": "python3",
      "display_name": "Python 3"
    },
    "language_info": {
      "name": "python"
    }
  },
  "cells": [
    {
      "cell_type": "markdown",
      "metadata": {
        "id": "view-in-github",
        "colab_type": "text"
      },
      "source": [
        "<a href=\"https://colab.research.google.com/github/cvbiju/Streamit/blob/main/GCP_Support_Cost_Estimator.ipynb\" target=\"_parent\"><img src=\"https://colab.research.google.com/assets/colab-badge.svg\" alt=\"Open In Colab\"/></a>"
      ]
    },
    {
      "cell_type": "code",
      "execution_count": 1,
      "metadata": {
        "colab": {
          "base_uri": "https://localhost:8080/"
        },
        "id": "JmkC_Sp2r57D",
        "outputId": "854fcf4d-3530-40f3-daca-4503ccd23f50"
      },
      "outputs": [
        {
          "output_type": "stream",
          "name": "stdout",
          "text": [
            "Cloud Support Cost Estimator\n",
            "Support levels: Standard, Enhanced, Premium\n",
            "Enter support type: Premium\n",
            "Enter monthly cloud spend in USD: 9000000\n",
            "\n",
            "Estimated Monthly Support Cost: $304,500.00\n"
          ]
        }
      ],
      "source": [
        "def calculate_support_cost(support_type: str, monthly_spend: float) -> float:\n",
        "    support_type = support_type.lower()\n",
        "\n",
        "    if support_type == \"standard\":\n",
        "        cost = max(29.0, 0.03 * monthly_spend)\n",
        "\n",
        "    elif support_type == \"enhanced\":\n",
        "        if monthly_spend <= 10000:\n",
        "            cost = 0.10 * monthly_spend\n",
        "        elif monthly_spend <= 80000:\n",
        "            cost = (0.10 * 10000) + (0.07 * (monthly_spend - 10000))\n",
        "        elif monthly_spend <= 250000:\n",
        "            cost = (0.10 * 10000) + (0.07 * 70000) + (0.05 * (monthly_spend - 80000))\n",
        "        else:\n",
        "            cost = (0.10 * 10000) + (0.07 * 70000) + (0.05 * 170000) + (0.03 * (monthly_spend - 250000))\n",
        "        cost = max(100.0, cost)\n",
        "\n",
        "    elif support_type == \"premium\":\n",
        "        if monthly_spend <= 150000:\n",
        "            cost = 0.10 * monthly_spend\n",
        "        elif monthly_spend <= 500000:\n",
        "            cost = (0.10 * 150000) + (0.07 * (monthly_spend - 150000))\n",
        "        elif monthly_spend <= 1000000:\n",
        "            cost = (0.10 * 150000) + (0.07 * 350000) + (0.05 * (monthly_spend - 500000))\n",
        "        else:\n",
        "            cost = (0.10 * 150000) + (0.07 * 350000) + (0.05 * 500000) + (0.03 * (monthly_spend - 1000000))\n",
        "        cost = max(15000.0, cost)\n",
        "\n",
        "    else:\n",
        "        raise ValueError(\"Invalid support type. Choose from 'Standard', 'Enhanced', or 'Premium'.\")\n",
        "\n",
        "    return round(cost, 2)\n",
        "\n",
        "def main():\n",
        "    print(\"Cloud Support Cost Estimator\")\n",
        "    print(\"Support levels: Standard, Enhanced, Premium\")\n",
        "    support_type = input(\"Enter support type: \").strip()\n",
        "\n",
        "    try:\n",
        "        monthly_spend = float(input(\"Enter monthly cloud spend in USD: \"))\n",
        "        cost = calculate_support_cost(support_type, monthly_spend)\n",
        "        print(f\"\\nEstimated Monthly Support Cost: ${cost:,.2f}\")\n",
        "    except ValueError as e:\n",
        "        print(f\"Error: {e}\")\n",
        "\n",
        "if __name__ == \"__main__\":\n",
        "    main()\n"
      ]
    }
  ]
}